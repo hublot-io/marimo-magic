{
 "cells": [
  {
   "cell_type": "markdown",
   "metadata": {},
   "source": [
    "# 🧬 Marimo Magic Demo\n",
    "\n",
    "This notebook demonstrates how to use `marimo-magic` to embed interactive marimo notebooks directly in Jupyter/Colab.\n",
    "\n",
    "## Features\n",
    "- 🔄 Run marimo notebooks inline\n",
    "- 📝 Edit mode for development \n",
    "- 🎯 Custom dimensions and ports\n",
    "- 🛡️ Colab compatibility with fallbacks"
   ]
  },
  {
   "cell_type": "markdown",
   "metadata": {},
   "source": [
    "## 📦 Installation\n",
    "\n",
    "### Option 1: Install from PyPI (Recommended)"
   ]
  },
  {
   "cell_type": "code",
   "execution_count": null,
   "metadata": {},
   "outputs": [],
   "source": [
    "# Install marimo-magic from PyPI\n",
    "!pip install marimo marimo-magic\n",
    "\n",
    "# Load the extension\n",
    "%load_ext marimo_magic"
   ]
  },
  {
   "cell_type": "markdown",
   "metadata": {},
   "source": [
    "### Option 2: Direct File Copy (Alternative for Colab)"
   ]
  },
  {
   "cell_type": "code",
   "execution_count": null,
   "metadata": {},
   "outputs": [],
   "source": [
    "# Alternative: Download files directly (uncomment if needed)\n",
    "# !wget -q https://raw.githubusercontent.com/hublot-io/marimo-magic/main/src/marimo_magic/__init__.py\n",
    "# !wget -q https://raw.githubusercontent.com/hublot-io/marimo-magic/main/src/marimo_magic/magic.py\n",
    "# !mkdir -p marimo_magic && mv __init__.py magic.py marimo_magic/\n",
    "# %load_ext marimo_magic"
   ]
  },
  {
   "cell_type": "markdown",
   "metadata": {},
   "source": [
    "## 🚀 Basic Usage\n",
    "\n",
    "### 1. Quick Start - Create Temporary Notebook"
   ]
  },
  {
   "cell_type": "code",
   "execution_count": null,
   "metadata": {},
   "outputs": [],
   "source": [
    "# Start marimo with default settings (creates temp notebook in run mode)\n",
    "%marimo"
   ]
  },
  {
   "cell_type": "markdown",
   "metadata": {},
   "source": [
    "### 2. Development Mode - Edit Notebooks"
   ]
  },
  {
   "cell_type": "code",
   "execution_count": null,
   "metadata": {},
   "outputs": [],
   "source": [
    "# Create/edit a new notebook in development mode\n",
    "%marimo my_analysis.py --edit"
   ]
  },
  {
   "cell_type": "markdown",
   "metadata": {},
   "source": [
    "### 3. Run Existing Notebook"
   ]
  },
  {
   "cell_type": "code",
   "execution_count": null,
   "metadata": {},
   "outputs": [],
   "source": [
    "# Run an existing marimo notebook\n",
    "%marimo basic_example.py"
   ]
  },
  {
   "cell_type": "markdown",
   "metadata": {},
   "source": [
    "## 🎨 Advanced Usage\n",
    "\n",
    "### Custom Dimensions and Debug Mode"
   ]
  },
  {
   "cell_type": "code",
   "execution_count": null,
   "metadata": {},
   "outputs": [],
   "source": [
    "# Custom iframe size and port\n",
    "%marimo my_notebook.py --port 8080 --height 800 --width 90%\n",
    "\n",
    "# Debug mode for troubleshooting\n",
    "# %marimo my_notebook.py --debug\n",
    "\n",
    "# Run diagnostics\n",
    "# %marimo --diagnose"
   ]
  },
  {
   "cell_type": "markdown",
   "metadata": {},
   "source": [
    "## 🧪 PEP 723 Dependencies Demo\n",
    "\n",
    "Create a notebook with inline dependencies that marimo-magic will auto-install:"
   ]
  },
  {
   "cell_type": "code",
   "execution_count": null,
   "metadata": {},
   "outputs": [],
   "source": [
    "# Create a sample notebook with dependencies\n",
    "notebook_content = '''# /// script\n",
    "# requires-python = \">=3.8\"\n",
    "# dependencies = [\n",
    "#     \"marimo\",\n",
    "#     \"pandas>=1.5.0\",\n",
    "#     \"matplotlib>=3.5.0\",\n",
    "#     \"numpy>=1.20.0\",\n",
    "# ]\n",
    "# ///\n",
    "\n",
    "import marimo\n",
    "\n",
    "__generated_with = \"0.14.9\"\n",
    "app = marimo.App()\n",
    "\n",
    "@app.cell\n",
    "def __():\n",
    "    import pandas as pd\n",
    "    import matplotlib.pyplot as plt\n",
    "    import numpy as np\n",
    "    return pd, plt, np\n",
    "\n",
    "@app.cell  \n",
    "def __(pd, np):\n",
    "    # Create sample data\n",
    "    data = pd.DataFrame({\n",
    "        'x': np.linspace(0, 10, 100),\n",
    "        'y': np.sin(np.linspace(0, 10, 100))\n",
    "    })\n",
    "    return data,\n",
    "\n",
    "@app.cell\n",
    "def __(data, plt):\n",
    "    # Create plot\n",
    "    plt.figure(figsize=(10, 6))\n",
    "    plt.plot(data['x'], data['y'], label='sin(x)')\n",
    "    plt.title('Interactive Plot with Inline Dependencies')\n",
    "    plt.xlabel('x')\n",
    "    plt.ylabel('sin(x)')\n",
    "    plt.legend()\n",
    "    plt.grid(True)\n",
    "    plt.show()\n",
    "    return\n",
    "\n",
    "if __name__ == \"__main__\":\n",
    "    app.run()\n",
    "'''\n",
    "\n",
    "# Write the notebook\n",
    "with open('deps_demo.py', 'w') as f:\n",
    "    f.write(notebook_content)\n",
    "    \n",
    "print(\"✅ Created deps_demo.py with inline dependencies\")"
   ]
  },
  {
   "cell_type": "code",
   "execution_count": null,
   "metadata": {},
   "outputs": [],
   "source": [
    "# Run the notebook with inline dependencies (uv will auto-install them)\n",
    "%marimo deps_demo.py --height 700"
   ]
  },
  {
   "cell_type": "markdown",
   "metadata": {},
   "source": [
    "## 🔧 Utility Commands"
   ]
  },
  {
   "cell_type": "code",
   "execution_count": null,
   "metadata": {},
   "outputs": [],
   "source": [
    "# Stop server on specific port\n",
    "%marimo --stop 2718\n",
    "\n",
    "# Show available commands\n",
    "%marimo --help"
   ]
  },
  {
   "cell_type": "markdown",
   "metadata": {},
   "source": [
    "## 📖 Help & Resources\n",
    "\n",
    "- **GitHub Repository**: https://github.com/hublot-io/marimo-magic\n",
    "- **PyPI Package**: https://pypi.org/project/marimo-magic/\n",
    "- **Marimo Docs**: https://docs.marimo.io\n",
    "- **Issue Tracker**: https://github.com/hublot-io/marimo-magic/issues\n",
    "\n",
    "### Mode Comparison\n",
    "\n",
    "| Mode | Purpose | Features |\n",
    "|------|---------|----------|\n",
    "| **Run** | Interactive execution | View outputs, interact with widgets |\n",
    "| **Edit** | Development | Add/edit/delete cells, full IDE |\n",
    "\n",
    "### Colab Tips\n",
    "\n",
    "- If iframe appears empty, click the \"Open Marimo Notebook\" button\n",
    "- Edit mode may take 3-5 minutes for heavy dependencies\n",
    "- Use `--debug` for detailed connection info\n",
    "- Use `--diagnose` to check your environment setup"
   ]
  }
 ],
 "metadata": {
  "kernelspec": {
   "display_name": "Python 3",
   "language": "python",
   "name": "python3"
  },
  "language_info": {
   "codemirror_mode": {
    "name": "ipython",
    "version": 3
   },
   "file_extension": ".py",
   "mimetype": "text/x-python",
   "name": "python",
   "nbconvert_exporter": "python",
   "pygments_lexer": "ipython3",
   "version": "3.8.0"
  }
 },
 "nbformat": 4,
 "nbformat_minor": 4
}